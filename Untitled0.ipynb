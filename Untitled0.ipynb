{
 "metadata": {
  "name": "",
  "signature": "sha256:ec5db75aaca959507dc81eb5f4bbff07fb7d48466dfa193c78cfb4aa348642c4"
 },
 "nbformat": 3,
 "nbformat_minor": 0,
 "worksheets": [
  {
   "cells": [
    {
     "cell_type": "code",
     "collapsed": false,
     "input": [
      "import cv2\n",
      "import numpy as np\n",
      "import matplotlib.pyplot as plt"
     ],
     "language": "python",
     "metadata": {},
     "outputs": [],
     "prompt_number": 1
    },
    {
     "cell_type": "code",
     "collapsed": false,
     "input": [
      "img = cv2.imread('wwhhk1csjzeoxqhbpwtk.jpg')"
     ],
     "language": "python",
     "metadata": {},
     "outputs": [],
     "prompt_number": 166
    },
    {
     "cell_type": "markdown",
     "metadata": {},
     "source": [
      "#Imread_color  = 1\n",
      "#imread_unchanged = -1"
     ]
    },
    {
     "cell_type": "code",
     "collapsed": false,
     "input": [
      "graey = cv2.cvtColor(img,cv2.COLOR_BGR2GRAY)"
     ],
     "language": "python",
     "metadata": {},
     "outputs": [],
     "prompt_number": 25
    },
    {
     "cell_type": "code",
     "collapsed": false,
     "input": [
      "cv2.imshow('image',img)\n",
      "cv2.imshow('new',graey)\n",
      "cv2.waitKey(0)\n",
      "cv2.destroyAllWindows()"
     ],
     "language": "python",
     "metadata": {},
     "outputs": [],
     "prompt_number": 26
    },
    {
     "cell_type": "code",
     "collapsed": false,
     "input": [
      "plt.imshow(img,cmap='gray',interpolation = 'bicubic')"
     ],
     "language": "python",
     "metadata": {},
     "outputs": [
      {
       "metadata": {},
       "output_type": "pyout",
       "prompt_number": 9,
       "text": [
        "<matplotlib.image.AxesImage at 0xdb33330>"
       ]
      }
     ],
     "prompt_number": 9
    },
    {
     "cell_type": "code",
     "collapsed": false,
     "input": [
      "plt.plot([50,100],[80,100],'c',linewidth=10)"
     ],
     "language": "python",
     "metadata": {},
     "outputs": [
      {
       "metadata": {},
       "output_type": "pyout",
       "prompt_number": 10,
       "text": [
        "[<matplotlib.lines.Line2D at 0xdb33650>]"
       ]
      }
     ],
     "prompt_number": 10
    },
    {
     "cell_type": "code",
     "collapsed": false,
     "input": [
      "plt.show()"
     ],
     "language": "python",
     "metadata": {},
     "outputs": [],
     "prompt_number": 11
    },
    {
     "cell_type": "code",
     "collapsed": false,
     "input": [
      "resized_image = cv2.resize(img, (256, 450)) \n",
      "mask = np.zeros(resized_image.shape[:2],np.uint8)\n",
      "bgmodel = np.zeros((1,65),np.float64)\n",
      "fgdmodel = np.zeros((1,65),np.float64)\n",
      "rect = (29,9,190,450)\n",
      "cv2.grabCut(resized_image,mask,rect,bgmodel,fgdmodel,5,cv2.GC_INIT_WITH_RECT)\n",
      "mask2 = np.where((mask==2) | (mask==0), 0 , 1).astype('uint8')\n",
      "resized_image = resized_image*mask2[:,:,np.newaxis]\n",
      "cv2.imshow('image',resized_image)\n",
      "cv2.imwrite(\"a.jpg\", resized_image)\n",
      "\n",
      "cv2.waitKey(0)\n",
      "cv2.destroyAllWindows()"
     ],
     "language": "python",
     "metadata": {},
     "outputs": [],
     "prompt_number": 171
    },
    {
     "cell_type": "code",
     "collapsed": false,
     "input": [],
     "language": "python",
     "metadata": {},
     "outputs": [],
     "prompt_number": 170
    },
    {
     "cell_type": "code",
     "collapsed": false,
     "input": [
      "resized_image = cv2.resize(img, (200, 450)) \n",
      "cv2.imshow('image',resized_image)\n",
      "\n",
      "cv2.waitKey(0)\n",
      "cv2.destroyAllWindows()"
     ],
     "language": "python",
     "metadata": {},
     "outputs": [],
     "prompt_number": 105
    },
    {
     "cell_type": "code",
     "collapsed": false,
     "input": [],
     "language": "python",
     "metadata": {},
     "outputs": []
    }
   ],
   "metadata": {}
  }
 ]
}